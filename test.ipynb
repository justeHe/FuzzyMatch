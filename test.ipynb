{
 "cells": [
  {
   "cell_type": "code",
   "execution_count": null,
   "id": "6ded4a8b",
   "metadata": {},
   "outputs": [
    {
     "name": "stderr",
     "output_type": "stream",
     "text": [
      "Matching: 100%|██████████| 1000/1000 [00:00<00:00, 599100.70it/s]"
     ]
    },
    {
     "name": "stdout",
     "output_type": "stream",
     "text": [
      "                                                NAME  \\\n",
      "0                    TRADINGLIMITEDGENERALALCARDINAL   \n",
      "1       ROSKAPSTROYWATERLIABILITYLIMITEDCLEANCOMPANY   \n",
      "2                               AMERICANDESATUNECVUP   \n",
      "3                           JorgeGOMEZRODRIGUEZJesus   \n",
      "4  CLOSEDSTOCKJOINTSERVICESSPECIALCOMPANYTRANSPOR...   \n",
      "\n",
      "                                        MATCHED_NAME     SCORE     ID  CORRECT  \n",
      "0                          herculesinternationalship  0.576923  27591    False  \n",
      "1  militaryconstructioncomplexoftheministryofdefense  0.552381  46040    False  \n",
      "2     limitedliabilitycompanykeramaksverkhnyayasalda  0.652174  11246    False  \n",
      "3                        mandegarbasparkimiyacompany  0.703704  25078    False  \n",
      "4                          peridotshippingtradingllc  0.754717  47475    False  \n",
      "匹配准确率（RapidFuzz fuzz.ratio）: 0.00%\n"
     ]
    },
    {
     "name": "stderr",
     "output_type": "stream",
     "text": [
      "\n"
     ]
    }
   ],
   "source": [
    "import pandas as pd\n",
    "import re\n",
    "from collections import defaultdict\n",
    "from concurrent.futures import ThreadPoolExecutor, as_completed\n",
    "from tqdm import tqdm\n",
    "from rapidfuzz import process, fuzz\n",
    "import wordninja\n",
    "\n",
    "# -------------------------\n",
    "# Step 1: 数据准备\n",
    "# -------------------------\n",
    "primary = pd.read_csv(\"primary.csv\")\n",
    "alternate = pd.read_csv(\"alternate.csv\")\n",
    "test = pd.read_excel(\"test_02.xlsx\", sheet_name=\"Sheet2\")\n",
    "\n",
    "# -------------------------\n",
    "# Step 2: 清洗 + 分词（适用于乱序匹配）\n",
    "# -------------------------\n",
    "def clean_for_rapidfuzz(s):\n",
    "    if pd.isna(s):\n",
    "        return \"\"\n",
    "    s = re.sub(r'[^A-Z0-9]', '', s.upper())\n",
    "    words = wordninja.split(s.lower())\n",
    "    return ' '.join(words)  # 留空格用于 token 匹配\n",
    "\n",
    "primary['NGRAM_NAME'] = primary['NAME'].apply(clean_for_rapidfuzz)\n",
    "alternate['NGRAM_NAME'] = alternate['NAME'].apply(clean_for_rapidfuzz)\n",
    "test['NGRAM_NAME'] = test['NAME'].apply(clean_for_rapidfuzz)\n",
    "\n",
    "# -------------------------\n",
    "# Step 3: 构造参考集和映射\n",
    "# -------------------------\n",
    "reference = pd.concat([\n",
    "    primary[['ID', 'NGRAM_NAME']],\n",
    "    alternate[['ID', 'NGRAM_NAME']]\n",
    "], ignore_index=True)\n",
    "\n",
    "name_to_ids = defaultdict(set)\n",
    "for _, row in reference.iterrows():\n",
    "    name_to_ids[row['NGRAM_NAME']].add(row['ID'])\n",
    "\n",
    "choices = reference['NGRAM_NAME'].tolist()\n",
    "name_to_id = dict(zip(reference['NGRAM_NAME'], reference['ID']))\n",
    "\n",
    "# -------------------------\n",
    "# Step 4: RapidFuzz 匹配（乱序鲁棒）\n",
    "# -------------------------\n",
    "def match_rapidfuzz_token_sort(query):\n",
    "    if not query:\n",
    "        return None, None, 0\n",
    "    matched_name, score, _ = process.extractOne(\n",
    "        query, choices, scorer=fuzz.token_sort_ratio)\n",
    "    matched_id = name_to_id.get(matched_name)\n",
    "    return matched_id, matched_name, score / 100  # 转换为 0~1 区间\n",
    "\n",
    "# -------------------------\n",
    "# Step 5: 并行匹配\n",
    "# -------------------------\n",
    "NUM_THREADS = 8\n",
    "\n",
    "results = []\n",
    "with ThreadPoolExecutor(max_workers=NUM_THREADS) as executor:\n",
    "    futures = {executor.submit(match_rapidfuzz_token_sort, row['NGRAM_NAME']): idx for idx, row in test.iterrows()}\n",
    "    for future in tqdm(as_completed(futures), total=len(futures), desc=\"Matching\"):\n",
    "        results.append(future.result())\n",
    "\n",
    "matched_ids, matched_names, scores = zip(*results)\n",
    "test['MATCHED_ID'] = matched_ids\n",
    "test['MATCHED_NAME'] = matched_names\n",
    "test['SCORE'] = scores\n",
    "\n",
    "# -------------------------\n",
    "# Step 6: 匹配验证与输出\n",
    "# -------------------------\n",
    "test['CORRECT'] = test.apply(\n",
    "    lambda row: row['ID'] in name_to_ids.get(row['MATCHED_NAME'], set()),\n",
    "    axis=1\n",
    ")\n",
    "\n",
    "print(test[['NAME', 'MATCHED_NAME', 'SCORE', 'ID', 'CORRECT']].head())\n",
    "print(f\"匹配准确率（RapidFuzz token_sort_ratio）: {test['CORRECT'].mean():.2%}\")\n"
   ]
  },
  {
   "cell_type": "code",
   "execution_count": null,
   "id": "037bbda8",
   "metadata": {},
   "outputs": [],
   "source": []
  }
 ],
 "metadata": {
  "kernelspec": {
   "display_name": "ML",
   "language": "python",
   "name": "python3"
  },
  "language_info": {
   "codemirror_mode": {
    "name": "ipython",
    "version": 3
   },
   "file_extension": ".py",
   "mimetype": "text/x-python",
   "name": "python",
   "nbconvert_exporter": "python",
   "pygments_lexer": "ipython3",
   "version": "3.13.2"
  }
 },
 "nbformat": 4,
 "nbformat_minor": 5
}
